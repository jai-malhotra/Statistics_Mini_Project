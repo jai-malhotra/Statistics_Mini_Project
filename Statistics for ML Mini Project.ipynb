{
 "cells": [
  {
   "cell_type": "markdown",
   "id": "65134259",
   "metadata": {},
   "source": [
    "# Statistics for ML Mini Project"
   ]
  },
  {
   "cell_type": "code",
   "execution_count": 1,
   "id": "e6bf586c",
   "metadata": {},
   "outputs": [],
   "source": [
    "import numpy as np\n",
    "import pandas as pd\n",
    "\n",
    "# For Visualization\n",
    "import matplotlib.pyplot as plt\n",
    "import seaborn as sns\n",
    "\n",
    "# For Sampling\n",
    "import random\n",
    "\n",
    "# For Statistical Calculations\n",
    "from scipy import stats\n",
    "from scipy.stats import shapiro, levene\n",
    "from statsmodels.stats import weightstats as stests\n",
    "from scipy.stats import chi2,chi2_contingency ,chisquare\n",
    "from statsmodels.stats.multicomp import pairwise_tukeyhsd"
   ]
  },
  {
   "cell_type": "markdown",
   "id": "b18c85f1",
   "metadata": {},
   "source": [
    "## Fifa Dataset"
   ]
  },
  {
   "cell_type": "markdown",
   "id": "98bf6812",
   "metadata": {},
   "source": [
    "### Basic EDA"
   ]
  },
  {
   "cell_type": "code",
   "execution_count": 2,
   "id": "0fcefb9d",
   "metadata": {},
   "outputs": [
    {
     "data": {
      "text/html": [
       "<div>\n",
       "<style scoped>\n",
       "    .dataframe tbody tr th:only-of-type {\n",
       "        vertical-align: middle;\n",
       "    }\n",
       "\n",
       "    .dataframe tbody tr th {\n",
       "        vertical-align: top;\n",
       "    }\n",
       "\n",
       "    .dataframe thead th {\n",
       "        text-align: right;\n",
       "    }\n",
       "</style>\n",
       "<table border=\"1\" class=\"dataframe\">\n",
       "  <thead>\n",
       "    <tr style=\"text-align: right;\">\n",
       "      <th></th>\n",
       "      <th>Name</th>\n",
       "      <th>Age</th>\n",
       "      <th>Nationality</th>\n",
       "      <th>Overall_rating</th>\n",
       "      <th>Potential</th>\n",
       "      <th>Club</th>\n",
       "      <th>Preferred Foot</th>\n",
       "      <th>International Reputation</th>\n",
       "      <th>Weak Foot</th>\n",
       "      <th>Skill Moves</th>\n",
       "      <th>Work Rate</th>\n",
       "      <th>Position</th>\n",
       "      <th>Jersey Number</th>\n",
       "      <th>Height</th>\n",
       "      <th>Weight</th>\n",
       "    </tr>\n",
       "  </thead>\n",
       "  <tbody>\n",
       "    <tr>\n",
       "      <th>0</th>\n",
       "      <td>L. Messi</td>\n",
       "      <td>31</td>\n",
       "      <td>Argentina</td>\n",
       "      <td>94</td>\n",
       "      <td>94</td>\n",
       "      <td>FC Barcelona</td>\n",
       "      <td>Left</td>\n",
       "      <td>5</td>\n",
       "      <td>4</td>\n",
       "      <td>4</td>\n",
       "      <td>Medium/ Medium</td>\n",
       "      <td>RF</td>\n",
       "      <td>10</td>\n",
       "      <td>5.583333</td>\n",
       "      <td>159</td>\n",
       "    </tr>\n",
       "    <tr>\n",
       "      <th>1</th>\n",
       "      <td>Cristiano Ronaldo</td>\n",
       "      <td>33</td>\n",
       "      <td>Portugal</td>\n",
       "      <td>94</td>\n",
       "      <td>94</td>\n",
       "      <td>Juventus</td>\n",
       "      <td>Right</td>\n",
       "      <td>5</td>\n",
       "      <td>4</td>\n",
       "      <td>5</td>\n",
       "      <td>High/ Low</td>\n",
       "      <td>ST</td>\n",
       "      <td>7</td>\n",
       "      <td>6.166667</td>\n",
       "      <td>183</td>\n",
       "    </tr>\n",
       "    <tr>\n",
       "      <th>2</th>\n",
       "      <td>Neymar Jr</td>\n",
       "      <td>26</td>\n",
       "      <td>Brazil</td>\n",
       "      <td>92</td>\n",
       "      <td>93</td>\n",
       "      <td>Paris Saint-Germain</td>\n",
       "      <td>Right</td>\n",
       "      <td>5</td>\n",
       "      <td>5</td>\n",
       "      <td>5</td>\n",
       "      <td>High/ Medium</td>\n",
       "      <td>LW</td>\n",
       "      <td>10</td>\n",
       "      <td>5.750000</td>\n",
       "      <td>150</td>\n",
       "    </tr>\n",
       "    <tr>\n",
       "      <th>3</th>\n",
       "      <td>De Gea</td>\n",
       "      <td>27</td>\n",
       "      <td>Spain</td>\n",
       "      <td>91</td>\n",
       "      <td>93</td>\n",
       "      <td>Manchester United</td>\n",
       "      <td>Right</td>\n",
       "      <td>4</td>\n",
       "      <td>3</td>\n",
       "      <td>1</td>\n",
       "      <td>Medium/ Medium</td>\n",
       "      <td>GK</td>\n",
       "      <td>1</td>\n",
       "      <td>6.333333</td>\n",
       "      <td>168</td>\n",
       "    </tr>\n",
       "    <tr>\n",
       "      <th>4</th>\n",
       "      <td>K. De Bruyne</td>\n",
       "      <td>27</td>\n",
       "      <td>Belgium</td>\n",
       "      <td>91</td>\n",
       "      <td>92</td>\n",
       "      <td>Manchester City</td>\n",
       "      <td>Right</td>\n",
       "      <td>4</td>\n",
       "      <td>5</td>\n",
       "      <td>4</td>\n",
       "      <td>High/ High</td>\n",
       "      <td>RCM</td>\n",
       "      <td>7</td>\n",
       "      <td>5.083333</td>\n",
       "      <td>154</td>\n",
       "    </tr>\n",
       "  </tbody>\n",
       "</table>\n",
       "</div>"
      ],
      "text/plain": [
       "                Name  Age Nationality  Overall_rating  Potential  \\\n",
       "0           L. Messi   31   Argentina              94         94   \n",
       "1  Cristiano Ronaldo   33    Portugal              94         94   \n",
       "2          Neymar Jr   26      Brazil              92         93   \n",
       "3             De Gea   27       Spain              91         93   \n",
       "4       K. De Bruyne   27     Belgium              91         92   \n",
       "\n",
       "                  Club Preferred Foot  International Reputation  Weak Foot  \\\n",
       "0         FC Barcelona           Left                         5          4   \n",
       "1             Juventus          Right                         5          4   \n",
       "2  Paris Saint-Germain          Right                         5          5   \n",
       "3    Manchester United          Right                         4          3   \n",
       "4      Manchester City          Right                         4          5   \n",
       "\n",
       "   Skill Moves       Work Rate Position  Jersey Number    Height  Weight  \n",
       "0            4  Medium/ Medium       RF             10  5.583333     159  \n",
       "1            5       High/ Low       ST              7  6.166667     183  \n",
       "2            5    High/ Medium       LW             10  5.750000     150  \n",
       "3            1  Medium/ Medium       GK              1  6.333333     168  \n",
       "4            4      High/ High      RCM              7  5.083333     154  "
      ]
     },
     "execution_count": 2,
     "metadata": {},
     "output_type": "execute_result"
    }
   ],
   "source": [
    "# 1)\n",
    "df1= pd.read_csv('C:/Users/STAYLOSO/Downloads/DSE/Stats for ML/Stats Mini Project/fifa_stats.csv')\n",
    "\n",
    "df1.head()"
   ]
  },
  {
   "cell_type": "code",
   "execution_count": 3,
   "id": "e718d46b",
   "metadata": {},
   "outputs": [
    {
     "data": {
      "text/plain": [
       "(2000, 15)"
      ]
     },
     "execution_count": 3,
     "metadata": {},
     "output_type": "execute_result"
    }
   ],
   "source": [
    "df1.shape"
   ]
  },
  {
   "cell_type": "code",
   "execution_count": 4,
   "id": "e4c62738",
   "metadata": {},
   "outputs": [
    {
     "data": {
      "text/plain": [
       "Name                        0.00\n",
       "Age                         0.00\n",
       "Nationality                 0.00\n",
       "Overall_rating              0.00\n",
       "Potential                   0.00\n",
       "Club                        0.95\n",
       "Preferred Foot              0.00\n",
       "International Reputation    0.00\n",
       "Weak Foot                   0.00\n",
       "Skill Moves                 0.00\n",
       "Work Rate                   0.00\n",
       "Position                    0.00\n",
       "Jersey Number               0.00\n",
       "Height                      0.00\n",
       "Weight                      0.00\n",
       "dtype: float64"
      ]
     },
     "execution_count": 4,
     "metadata": {},
     "output_type": "execute_result"
    }
   ],
   "source": [
    "df1.isnull().sum()/len(df1)*100\n",
    "\n",
    "# Only 0.95% null values in the Club column."
   ]
  },
  {
   "cell_type": "code",
   "execution_count": 5,
   "id": "b2748d12",
   "metadata": {},
   "outputs": [],
   "source": [
    "df1.dropna(subset=['Club'], inplace=True)\n",
    "\n",
    "# Removing the rows with null values"
   ]
  },
  {
   "cell_type": "code",
   "execution_count": 6,
   "id": "45cba5db",
   "metadata": {},
   "outputs": [
    {
     "data": {
      "text/html": [
       "<div>\n",
       "<style scoped>\n",
       "    .dataframe tbody tr th:only-of-type {\n",
       "        vertical-align: middle;\n",
       "    }\n",
       "\n",
       "    .dataframe tbody tr th {\n",
       "        vertical-align: top;\n",
       "    }\n",
       "\n",
       "    .dataframe thead th {\n",
       "        text-align: right;\n",
       "    }\n",
       "</style>\n",
       "<table border=\"1\" class=\"dataframe\">\n",
       "  <thead>\n",
       "    <tr style=\"text-align: right;\">\n",
       "      <th></th>\n",
       "      <th>Age</th>\n",
       "      <th>Overall_rating</th>\n",
       "      <th>Potential</th>\n",
       "      <th>International Reputation</th>\n",
       "      <th>Weak Foot</th>\n",
       "      <th>Skill Moves</th>\n",
       "      <th>Jersey Number</th>\n",
       "      <th>Height</th>\n",
       "      <th>Weight</th>\n",
       "    </tr>\n",
       "  </thead>\n",
       "  <tbody>\n",
       "    <tr>\n",
       "      <th>count</th>\n",
       "      <td>1981.000000</td>\n",
       "      <td>1981.000000</td>\n",
       "      <td>1981.000000</td>\n",
       "      <td>1981.000000</td>\n",
       "      <td>1981.000000</td>\n",
       "      <td>1981.000000</td>\n",
       "      <td>1981.000000</td>\n",
       "      <td>1981.000000</td>\n",
       "      <td>1981.000000</td>\n",
       "    </tr>\n",
       "    <tr>\n",
       "      <th>mean</th>\n",
       "      <td>27.215548</td>\n",
       "      <td>78.212014</td>\n",
       "      <td>80.328117</td>\n",
       "      <td>1.777890</td>\n",
       "      <td>3.202928</td>\n",
       "      <td>2.920242</td>\n",
       "      <td>15.253407</td>\n",
       "      <td>5.781886</td>\n",
       "      <td>169.483089</td>\n",
       "    </tr>\n",
       "    <tr>\n",
       "      <th>std</th>\n",
       "      <td>3.852519</td>\n",
       "      <td>3.293624</td>\n",
       "      <td>4.118002</td>\n",
       "      <td>0.812861</td>\n",
       "      <td>0.730443</td>\n",
       "      <td>0.964888</td>\n",
       "      <td>13.247428</td>\n",
       "      <td>0.442515</td>\n",
       "      <td>16.053960</td>\n",
       "    </tr>\n",
       "    <tr>\n",
       "      <th>min</th>\n",
       "      <td>17.000000</td>\n",
       "      <td>75.000000</td>\n",
       "      <td>75.000000</td>\n",
       "      <td>1.000000</td>\n",
       "      <td>1.000000</td>\n",
       "      <td>1.000000</td>\n",
       "      <td>1.000000</td>\n",
       "      <td>5.083333</td>\n",
       "      <td>123.000000</td>\n",
       "    </tr>\n",
       "    <tr>\n",
       "      <th>25%</th>\n",
       "      <td>24.000000</td>\n",
       "      <td>76.000000</td>\n",
       "      <td>77.000000</td>\n",
       "      <td>1.000000</td>\n",
       "      <td>3.000000</td>\n",
       "      <td>2.000000</td>\n",
       "      <td>7.000000</td>\n",
       "      <td>5.500000</td>\n",
       "      <td>159.000000</td>\n",
       "    </tr>\n",
       "    <tr>\n",
       "      <th>50%</th>\n",
       "      <td>27.000000</td>\n",
       "      <td>77.000000</td>\n",
       "      <td>80.000000</td>\n",
       "      <td>2.000000</td>\n",
       "      <td>3.000000</td>\n",
       "      <td>3.000000</td>\n",
       "      <td>13.000000</td>\n",
       "      <td>6.000000</td>\n",
       "      <td>170.000000</td>\n",
       "    </tr>\n",
       "    <tr>\n",
       "      <th>75%</th>\n",
       "      <td>30.000000</td>\n",
       "      <td>80.000000</td>\n",
       "      <td>83.000000</td>\n",
       "      <td>2.000000</td>\n",
       "      <td>4.000000</td>\n",
       "      <td>4.000000</td>\n",
       "      <td>20.000000</td>\n",
       "      <td>6.166667</td>\n",
       "      <td>181.000000</td>\n",
       "    </tr>\n",
       "    <tr>\n",
       "      <th>max</th>\n",
       "      <td>40.000000</td>\n",
       "      <td>94.000000</td>\n",
       "      <td>95.000000</td>\n",
       "      <td>5.000000</td>\n",
       "      <td>5.000000</td>\n",
       "      <td>5.000000</td>\n",
       "      <td>99.000000</td>\n",
       "      <td>6.583333</td>\n",
       "      <td>227.000000</td>\n",
       "    </tr>\n",
       "  </tbody>\n",
       "</table>\n",
       "</div>"
      ],
      "text/plain": [
       "               Age  Overall_rating    Potential  International Reputation  \\\n",
       "count  1981.000000     1981.000000  1981.000000               1981.000000   \n",
       "mean     27.215548       78.212014    80.328117                  1.777890   \n",
       "std       3.852519        3.293624     4.118002                  0.812861   \n",
       "min      17.000000       75.000000    75.000000                  1.000000   \n",
       "25%      24.000000       76.000000    77.000000                  1.000000   \n",
       "50%      27.000000       77.000000    80.000000                  2.000000   \n",
       "75%      30.000000       80.000000    83.000000                  2.000000   \n",
       "max      40.000000       94.000000    95.000000                  5.000000   \n",
       "\n",
       "         Weak Foot  Skill Moves  Jersey Number       Height       Weight  \n",
       "count  1981.000000  1981.000000    1981.000000  1981.000000  1981.000000  \n",
       "mean      3.202928     2.920242      15.253407     5.781886   169.483089  \n",
       "std       0.730443     0.964888      13.247428     0.442515    16.053960  \n",
       "min       1.000000     1.000000       1.000000     5.083333   123.000000  \n",
       "25%       3.000000     2.000000       7.000000     5.500000   159.000000  \n",
       "50%       3.000000     3.000000      13.000000     6.000000   170.000000  \n",
       "75%       4.000000     4.000000      20.000000     6.166667   181.000000  \n",
       "max       5.000000     5.000000      99.000000     6.583333   227.000000  "
      ]
     },
     "execution_count": 6,
     "metadata": {},
     "output_type": "execute_result"
    }
   ],
   "source": [
    "df1.describe()"
   ]
  },
  {
   "cell_type": "markdown",
   "id": "fdff04ad",
   "metadata": {},
   "source": [
    "## a) Performing Central Limit Theorem"
   ]
  },
  {
   "cell_type": "code",
   "execution_count": 7,
   "id": "6fbcffdb",
   "metadata": {},
   "outputs": [
    {
     "data": {
      "image/png": "[encoded data removed]",
      "text/plain": [
       "<Figure size 360x360 with 1 Axes>"
      ]
     },
     "metadata": {
      "needs_background": "light"
     },
     "output_type": "display_data"
    }
   ],
   "source": [
    "sns.displot(df1['Age'], kde=True)\n",
    "plt.title(\"Age Data Plotted\")\n",
    "plt.show()\n",
    "\n",
    "# Normally Distributed"
   ]
  },
  {
   "cell_type": "code",
   "execution_count": 8,
   "id": "97a44bd2",
   "metadata": {},
   "outputs": [
    {
     "data": {
      "image/png": "[encoded data removed]",
      "text/plain": [
       "<Figure size 1008x1008 with 6 Axes>"
      ]
     },
     "metadata": {
      "needs_background": "light"
     },
     "output_type": "display_data"
    }
   ],
   "source": [
    "import warnings\n",
    "warnings.filterwarnings('ignore')\n",
    "\n",
    "random.seed(17)\n",
    "\n",
    "plt.figure(figsize=(14,14))\n",
    "\n",
    "plt.subplot(3,2,1)\n",
    "sample1= [np.mean(random.sample(list(df1['Age']), k=200)) for i in range(10)]\n",
    "sns.distplot(sample1)\n",
    "plt.title(\"Number of Samples: 10\")\n",
    "\n",
    "plt.subplot(3,2,2)\n",
    "sample2= [np.mean(random.sample(list(df1['Age']), k=200)) for i in range(30)]\n",
    "sns.distplot(sample2)\n",
    "plt.title(\"Number of Samples: 30\")\n",
    "\n",
    "plt.subplot(3,2,3)\n",
    "sample3= [np.mean(random.sample(list(df1['Age']), k=200)) for i in range(100)]\n",
    "sns.distplot(sample3)\n",
    "plt.title(\"Number of Samples: 100\")\n",
    "\n",
    "plt.subplot(3,2,4)\n",
    "sample4= [np.mean(random.sample(list(df1['Age']), k=200)) for i in range(200)]\n",
    "sns.distplot(sample4)\n",
    "plt.title(\"Number of Samples: 200\")\n",
    "\n",
    "plt.subplot(3,2,5)\n",
    "sample5= [np.mean(random.sample(list(df1['Age']), k=200)) for i in range(1000)]\n",
    "sns.distplot(sample5)\n",
    "plt.title(\"Number of Samples: 1000\")\n",
    "\n",
    "plt.subplot(3,2,6)\n",
    "sample6= [np.mean(random.sample(list(df1['Age']), k=200)) for i in range(5000)]\n",
    "sns.distplot(sample6)\n",
    "plt.title(\"Number of Samples: 5000\")\n",
    "\n",
    "plt.show()\n",
    "\n",
    "# We can see that as the number of samples increase, the data becomes more normally distributed."
   ]
  },
  {
   "cell_type": "markdown",
   "id": "fe011847",
   "metadata": {},
   "source": [
    "## Standard Error and The Mean of Sampling Distribution"
   ]
  },
  {
   "cell_type": "code",
   "execution_count": 9,
   "id": "53f6a4f9",
   "metadata": {},
   "outputs": [
    {
     "name": "stdout",
     "output_type": "stream",
     "text": [
      "Standard Error: 0.2724\n",
      "Mean of Sampling Distribution: 27.188\n"
     ]
    }
   ],
   "source": [
    "print(\"Standard Error:\", round(df1['Age'].std()/np.sqrt(len(sample4)), 4))\n",
    "print(\"Mean of Sampling Distribution:\", round(np.mean(sample4), 3))"
   ]
  },
  {
   "cell_type": "markdown",
   "id": "20a5d43c",
   "metadata": {},
   "source": [
    "## Population Mean and Standard Deviation"
   ]
  },
  {
   "cell_type": "code",
   "execution_count": 10,
   "id": "b189984a",
   "metadata": {},
   "outputs": [
    {
     "name": "stdout",
     "output_type": "stream",
     "text": [
      "Population Standard Deviation: 3.8515461098126726\n",
      "Population Mean: 27.215547703180214\n",
      "Sampling Error: 0.027572703180211988\n"
     ]
    }
   ],
   "source": [
    "print(\"Population Standard Deviation:\", np.std(df1['Age']))\n",
    "print(\"Population Mean:\", np.mean(df1['Age']))\n",
    "\n",
    "print(\"Sampling Error:\", abs(np.mean(df1['Age'])-np.mean(sample4)))\n",
    "\n",
    "# Sampling Error closer to 0 would mean the sample is representative of the population.\n",
    "\n",
    "# Mean of Sampling Distribution and Population Mean are almost equal. This means that sample is representative of the \n",
    "# population."
   ]
  },
  {
   "cell_type": "code",
   "execution_count": 11,
   "id": "fddb73e9",
   "metadata": {},
   "outputs": [],
   "source": [
    "# Standard error decreases when sample size increases – as the sample size gets closer to the true size of the population,\n",
    "# the sample means cluster more and more around the true population mean."
   ]
  },
  {
   "cell_type": "markdown",
   "id": "f649c04f",
   "metadata": {},
   "source": [
    "## b) Is there any evidence that the players overall rating is greater than 80?"
   ]
  },
  {
   "cell_type": "code",
   "execution_count": 12,
   "id": "d1c005d9",
   "metadata": {},
   "outputs": [],
   "source": [
    "# H0: Overall_Rating <= 80\n",
    "# H1: Overall_Rating > 80"
   ]
  },
  {
   "cell_type": "code",
   "execution_count": 13,
   "id": "eb7633af",
   "metadata": {},
   "outputs": [
    {
     "name": "stdout",
     "output_type": "stream",
     "text": [
      "P_Value: 2.7944738689345338e-129\n",
      "Since P_Value is less than Alpha, Reject the null\n",
      "Overall Rating of Players is greater than 80\n"
     ]
    }
   ],
   "source": [
    "z_score, p_val= stests.ztest(x1= df1['Overall_rating'], value= 80)\n",
    "print('P_Value:', p_val/2)\n",
    "\n",
    "print(\"Since P_Value is less than Alpha, Reject the null\")\n",
    "print(\"Overall Rating of Players is greater than 80\")"
   ]
  },
  {
   "cell_type": "markdown",
   "id": "abd2e251",
   "metadata": {},
   "source": [
    "## c) Statistical Test to identify whether Preferred Foot has any impact on Potential"
   ]
  },
  {
   "cell_type": "code",
   "execution_count": 14,
   "id": "544d11e8",
   "metadata": {},
   "outputs": [
    {
     "name": "stdout",
     "output_type": "stream",
     "text": [
      "PValue: 0.2108546965781491\n",
      "Since, PValue is greater than Alpha (0.05), Data has equal variance.\n"
     ]
    }
   ],
   "source": [
    "stat, pvalue= stats.levene(df1[df1['Preferred Foot']=='Right']['Potential'],\n",
    "            df1[df1['Preferred Foot']=='Left']['Potential'])\n",
    "\n",
    "print('PValue:', pvalue)\n",
    "print(\"Since, PValue is greater than Alpha (0.05), Data has equal variance.\")"
   ]
  },
  {
   "cell_type": "code",
   "execution_count": 15,
   "id": "330b8a00",
   "metadata": {},
   "outputs": [
    {
     "name": "stdout",
     "output_type": "stream",
     "text": [
      "PValue: 0.10291861885209323\n"
     ]
    }
   ],
   "source": [
    "# H0: There is no correlation between Preferred Foot and Potential\n",
    "# H1: There is correlation between Preferred Foot and Potential\n",
    "\n",
    "test_stat , pvalue = stats.f_oneway(df1[df1['Preferred Foot']=='Left']['Potential'],\n",
    "                                   df1[df1['Preferred Foot']=='Right']['Potential'])\n",
    "print(\"PValue:\", pvalue)\n",
    "\n",
    "# Since, PValue is greater than Alpha (0.05), Therefore, We fail to reject the null hypothesis.\n",
    "# Stating that there is no impact of Preferred Foot on Potential"
   ]
  },
  {
   "cell_type": "code",
   "execution_count": 16,
   "id": "ca4446ba",
   "metadata": {},
   "outputs": [
    {
     "data": {
      "image/png": "[encoded data removed]",
      "text/plain": [
       "<Figure size 1008x504 with 1 Axes>"
      ]
     },
     "metadata": {
      "needs_background": "light"
     },
     "output_type": "display_data"
    }
   ],
   "source": [
    "plt.figure(figsize=(14,7))\n",
    "sns.boxplot(x= df1['Preferred Foot'], y= df1['Potential'])\n",
    "plt.title(\"Analysis to find impact of Preferred Foot on Potential\")\n",
    "plt.show()\n",
    "\n",
    "# No impact of Preferred Foot on Potential because distribution is almost same."
   ]
  },
  {
   "cell_type": "markdown",
   "id": "5a275ca7",
   "metadata": {},
   "source": [
    "## d) Statistical Test to identify the relation between the Overall Rating and Potential"
   ]
  },
  {
   "cell_type": "code",
   "execution_count": 17,
   "id": "20ef6a0a",
   "metadata": {},
   "outputs": [
    {
     "name": "stdout",
     "output_type": "stream",
     "text": [
      "Correlation between Overall Rating and Potential 0.7320858358909953\n"
     ]
    }
   ],
   "source": [
    "print(\"Correlation between Overall Rating and Potential\", df1['Overall_rating'].corr(df1['Potential']))\n",
    "\n",
    "# Positive Relation"
   ]
  },
  {
   "cell_type": "code",
   "execution_count": 18,
   "id": "1b649f2b",
   "metadata": {},
   "outputs": [
    {
     "name": "stdout",
     "output_type": "stream",
     "text": [
      "Spearmans correlation: 0.690\n",
      "Samples are correlated (reject H0) p=0.000\n"
     ]
    }
   ],
   "source": [
    "from scipy.stats import spearmanr\n",
    "# H0: Overall_rating and Potential are uncorrelated\n",
    "# H1: Overall_rating and Potential are correlated\n",
    "\n",
    "coef, pvalue = spearmanr(df1['Overall_rating'], df1['Potential'])\n",
    "print('Spearmans correlation: %.3f' % coef)\n",
    "alpha = 0.05\n",
    "if pvalue > alpha:\n",
    "    print('Samples are uncorrelated (fail to reject H0) p=%.3f' % pvalue)\n",
    "else:\n",
    "    print('Samples are correlated (reject H0) p=%.3f' % pvalue)"
   ]
  },
  {
   "cell_type": "code",
   "execution_count": 19,
   "id": "be51dd1b",
   "metadata": {},
   "outputs": [
    {
     "data": {
      "image/png": "[encoded data removed]",
      "text/plain": [
       "<Figure size 360x360 with 1 Axes>"
      ]
     },
     "metadata": {
      "needs_background": "light"
     },
     "output_type": "display_data"
    }
   ],
   "source": [
    "sns.lmplot(data=df1, x='Overall_rating', y='Potential')\n",
    "plt.title(\"Correlation between Overall Rating and Potential\")\n",
    "plt.show()\n",
    "\n",
    "# They have a positive correlation.\n",
    "# It means as Overall_Rating increases, Potential also increases."
   ]
  },
  {
   "cell_type": "markdown",
   "id": "3f4df236",
   "metadata": {},
   "source": [
    "## e) Statistical and Graphical Analysis to see Impact of Skill Moves on Overall_Rating"
   ]
  },
  {
   "cell_type": "code",
   "execution_count": 20,
   "id": "a14f7492",
   "metadata": {},
   "outputs": [
    {
     "name": "stdout",
     "output_type": "stream",
     "text": [
      "PValue: 8.630701393554627e-25\n"
     ]
    }
   ],
   "source": [
    "# H0: There is no correlation between Skill Moves and Overall_rating\n",
    "# H1: There is correlation between Skill Moves and Overall_rating\n",
    "\n",
    "test_stat , pvalue = stats.f_oneway(df1[df1['Skill Moves']==1]['Overall_rating'],\n",
    "                                   df1[df1['Skill Moves']==2]['Overall_rating'],\n",
    "                                   df1[df1['Skill Moves']==3]['Overall_rating'],\n",
    "                                   df1[df1['Skill Moves']==4]['Overall_rating'],\n",
    "                                   df1[df1['Skill Moves']==5]['Overall_rating'])\n",
    "print(\"PValue:\", pvalue)\n",
    "\n",
    "# P_Value is less than Alpha (0.05). Therefore, Reject the Null Hypothesis.\n",
    "# Stating that there is a correlation between Skill Moves and Overall Rating"
   ]
  },
  {
   "cell_type": "code",
   "execution_count": 21,
   "id": "47ae77ff",
   "metadata": {},
   "outputs": [
    {
     "data": {
      "image/png": "[encoded data removed]",
      "text/plain": [
       "<Figure size 720x720 with 1 Axes>"
      ]
     },
     "metadata": {
      "needs_background": "light"
     },
     "output_type": "display_data"
    }
   ],
   "source": [
    "plt.figure(figsize=(10,10))\n",
    "sns.boxplot(df1['Skill Moves'], df1['Overall_rating'])\n",
    "plt.title(\"Impact of Skill Moves on Overall Rating\")\n",
    "plt.show()\n",
    "\n",
    "# Skill Moves does have an impact on Overall_Rating but it is not that significant.\n",
    "# As Skill Moves go from 1 to 3, Overall Rating decreases.\n",
    "# As Skill Moves go from 3 to 5, Overall Rating increases."
   ]
  },
  {
   "cell_type": "markdown",
   "id": "427bd131",
   "metadata": {},
   "source": [
    "## Mobile Network Dataset"
   ]
  },
  {
   "cell_type": "markdown",
   "id": "82497600",
   "metadata": {},
   "source": [
    "### Basic EDA"
   ]
  },
  {
   "cell_type": "code",
   "execution_count": 22,
   "id": "f3da3913",
   "metadata": {},
   "outputs": [
    {
     "data": {
      "text/html": [
       "<div>\n",
       "<style scoped>\n",
       "    .dataframe tbody tr th:only-of-type {\n",
       "        vertical-align: middle;\n",
       "    }\n",
       "\n",
       "    .dataframe tbody tr th {\n",
       "        vertical-align: top;\n",
       "    }\n",
       "\n",
       "    .dataframe thead th {\n",
       "        text-align: right;\n",
       "    }\n",
       "</style>\n",
       "<table border=\"1\" class=\"dataframe\">\n",
       "  <thead>\n",
       "    <tr style=\"text-align: right;\">\n",
       "      <th></th>\n",
       "      <th>date</th>\n",
       "      <th>duration</th>\n",
       "      <th>item</th>\n",
       "      <th>month</th>\n",
       "      <th>network</th>\n",
       "      <th>network_type</th>\n",
       "    </tr>\n",
       "  </thead>\n",
       "  <tbody>\n",
       "    <tr>\n",
       "      <th>0</th>\n",
       "      <td>15-10-14 6:58</td>\n",
       "      <td>221.321120</td>\n",
       "      <td>data</td>\n",
       "      <td>2014-11</td>\n",
       "      <td>data</td>\n",
       "      <td>data</td>\n",
       "    </tr>\n",
       "    <tr>\n",
       "      <th>1</th>\n",
       "      <td>15-10-14 6:58</td>\n",
       "      <td>81.610599</td>\n",
       "      <td>call</td>\n",
       "      <td>2014-11</td>\n",
       "      <td>Vodafone</td>\n",
       "      <td>mobile</td>\n",
       "    </tr>\n",
       "    <tr>\n",
       "      <th>2</th>\n",
       "      <td>15-10-14 14:46</td>\n",
       "      <td>143.109111</td>\n",
       "      <td>call</td>\n",
       "      <td>2014-11</td>\n",
       "      <td>Meteor</td>\n",
       "      <td>mobile</td>\n",
       "    </tr>\n",
       "    <tr>\n",
       "      <th>3</th>\n",
       "      <td>15-10-14 14:48</td>\n",
       "      <td>111.888670</td>\n",
       "      <td>call</td>\n",
       "      <td>2014-11</td>\n",
       "      <td>Tesco</td>\n",
       "      <td>mobile</td>\n",
       "    </tr>\n",
       "    <tr>\n",
       "      <th>4</th>\n",
       "      <td>15-10-14 17:27</td>\n",
       "      <td>246.695171</td>\n",
       "      <td>call</td>\n",
       "      <td>2014-11</td>\n",
       "      <td>Tesco</td>\n",
       "      <td>mobile</td>\n",
       "    </tr>\n",
       "  </tbody>\n",
       "</table>\n",
       "</div>"
      ],
      "text/plain": [
       "             date    duration  item    month   network network_type\n",
       "0   15-10-14 6:58  221.321120  data  2014-11      data         data\n",
       "1   15-10-14 6:58   81.610599  call  2014-11  Vodafone       mobile\n",
       "2  15-10-14 14:46  143.109111  call  2014-11    Meteor       mobile\n",
       "3  15-10-14 14:48  111.888670  call  2014-11     Tesco       mobile\n",
       "4  15-10-14 17:27  246.695171  call  2014-11     Tesco       mobile"
      ]
     },
     "execution_count": 22,
     "metadata": {},
     "output_type": "execute_result"
    }
   ],
   "source": [
    "# 2)\n",
    "df2= pd.read_csv('C:/Users/STAYLOSO/Downloads/DSE/Stats for ML/Stats Mini Project/phone.csv')\n",
    "\n",
    "df2.head()"
   ]
  },
  {
   "cell_type": "code",
   "execution_count": 23,
   "id": "1b4a585e",
   "metadata": {},
   "outputs": [
    {
     "data": {
      "text/plain": [
       "(820, 6)"
      ]
     },
     "execution_count": 23,
     "metadata": {},
     "output_type": "execute_result"
    }
   ],
   "source": [
    "df2.shape"
   ]
  },
  {
   "cell_type": "code",
   "execution_count": 24,
   "id": "94216dc6",
   "metadata": {},
   "outputs": [
    {
     "name": "stdout",
     "output_type": "stream",
     "text": [
      "<class 'pandas.core.frame.DataFrame'>\n",
      "RangeIndex: 820 entries, 0 to 819\n",
      "Data columns (total 6 columns):\n",
      " #   Column        Non-Null Count  Dtype  \n",
      "---  ------        --------------  -----  \n",
      " 0   date          820 non-null    object \n",
      " 1   duration      820 non-null    float64\n",
      " 2   item          820 non-null    object \n",
      " 3   month         820 non-null    object \n",
      " 4   network       820 non-null    object \n",
      " 5   network_type  820 non-null    object \n",
      "dtypes: float64(1), object(5)\n",
      "memory usage: 38.6+ KB\n"
     ]
    }
   ],
   "source": [
    "df2.info()"
   ]
  },
  {
   "cell_type": "code",
   "execution_count": 25,
   "id": "927e19ec",
   "metadata": {},
   "outputs": [
    {
     "data": {
      "text/plain": [
       "date            0.0\n",
       "duration        0.0\n",
       "item            0.0\n",
       "month           0.0\n",
       "network         0.0\n",
       "network_type    0.0\n",
       "dtype: float64"
      ]
     },
     "execution_count": 25,
     "metadata": {},
     "output_type": "execute_result"
    }
   ],
   "source": [
    "df2.isnull().sum()/len(df2)*100\n",
    "\n",
    "# No Null Values"
   ]
  },
  {
   "cell_type": "code",
   "execution_count": 26,
   "id": "cd833d4a",
   "metadata": {},
   "outputs": [
    {
     "data": {
      "text/html": [
       "<div>\n",
       "<style scoped>\n",
       "    .dataframe tbody tr th:only-of-type {\n",
       "        vertical-align: middle;\n",
       "    }\n",
       "\n",
       "    .dataframe tbody tr th {\n",
       "        vertical-align: top;\n",
       "    }\n",
       "\n",
       "    .dataframe thead th {\n",
       "        text-align: right;\n",
       "    }\n",
       "</style>\n",
       "<table border=\"1\" class=\"dataframe\">\n",
       "  <thead>\n",
       "    <tr style=\"text-align: right;\">\n",
       "      <th></th>\n",
       "      <th>duration</th>\n",
       "    </tr>\n",
       "  </thead>\n",
       "  <tbody>\n",
       "    <tr>\n",
       "      <th>count</th>\n",
       "      <td>820.000000</td>\n",
       "    </tr>\n",
       "    <tr>\n",
       "      <th>mean</th>\n",
       "      <td>144.304936</td>\n",
       "    </tr>\n",
       "    <tr>\n",
       "      <th>std</th>\n",
       "      <td>45.687777</td>\n",
       "    </tr>\n",
       "    <tr>\n",
       "      <th>min</th>\n",
       "      <td>0.993514</td>\n",
       "    </tr>\n",
       "    <tr>\n",
       "      <th>25%</th>\n",
       "      <td>112.916486</td>\n",
       "    </tr>\n",
       "    <tr>\n",
       "      <th>50%</th>\n",
       "      <td>144.179434</td>\n",
       "    </tr>\n",
       "    <tr>\n",
       "      <th>75%</th>\n",
       "      <td>175.932308</td>\n",
       "    </tr>\n",
       "    <tr>\n",
       "      <th>max</th>\n",
       "      <td>268.458090</td>\n",
       "    </tr>\n",
       "  </tbody>\n",
       "</table>\n",
       "</div>"
      ],
      "text/plain": [
       "         duration\n",
       "count  820.000000\n",
       "mean   144.304936\n",
       "std     45.687777\n",
       "min      0.993514\n",
       "25%    112.916486\n",
       "50%    144.179434\n",
       "75%    175.932308\n",
       "max    268.458090"
      ]
     },
     "execution_count": 26,
     "metadata": {},
     "output_type": "execute_result"
    }
   ],
   "source": [
    "df2.describe()"
   ]
  },
  {
   "cell_type": "markdown",
   "id": "092ce9b7",
   "metadata": {},
   "source": [
    "## a) With 95% & 99% Confidence Interval find the range estimate of average duration calls made by all the network. Which of the Intervals are wider? Interpret the results."
   ]
  },
  {
   "cell_type": "markdown",
   "id": "c024d343",
   "metadata": {},
   "source": [
    "### Confidence Intervals for each Network separately at 95% and 99% Confidence level"
   ]
  },
  {
   "cell_type": "code",
   "execution_count": 27,
   "id": "9159f623",
   "metadata": {},
   "outputs": [],
   "source": [
    "xbar= df2[df2['network']=='Vodafone']['duration'].mean()\n",
    "sigma= df2[df2['network']=='Vodafone']['duration'].std()\n",
    "n= len(df2[df2['network']=='Vodafone']['duration'])"
   ]
  },
  {
   "cell_type": "code",
   "execution_count": 28,
   "id": "3e7031c0",
   "metadata": {},
   "outputs": [
    {
     "name": "stdout",
     "output_type": "stream",
     "text": [
      "At 95% Confidence, Confidence Interval for Vodafone: (143.33557885755317, 155.8769646383539)\n"
     ]
    }
   ],
   "source": [
    "interval = stats.norm.interval(0.95, loc= xbar, scale= sigma/np.sqrt(n))\n",
    "print('At 95% Confidence, Confidence Interval for Vodafone:', interval)"
   ]
  },
  {
   "cell_type": "code",
   "execution_count": 29,
   "id": "c146cfb4",
   "metadata": {},
   "outputs": [
    {
     "name": "stdout",
     "output_type": "stream",
     "text": [
      "At 99% Confidence, Confidence Interval for Vodafone: (141.36518434631975, 157.84735914958733)\n"
     ]
    }
   ],
   "source": [
    "interval = stats.norm.interval(0.99, loc= xbar, scale= sigma/np.sqrt(n))\n",
    "print('At 99% Confidence, Confidence Interval for Vodafone:', interval)"
   ]
  },
  {
   "cell_type": "code",
   "execution_count": 30,
   "id": "7a8dacf5",
   "metadata": {},
   "outputs": [],
   "source": [
    "xbar= df2[df2['network']=='data']['duration'].mean()\n",
    "sigma= df2[df2['network']=='data']['duration'].std()\n",
    "n= len(df2[df2['network']=='data']['duration'])"
   ]
  },
  {
   "cell_type": "code",
   "execution_count": 31,
   "id": "6ec4a168",
   "metadata": {},
   "outputs": [
    {
     "name": "stdout",
     "output_type": "stream",
     "text": [
      "At 95% Confidence, Confidence Interval for data: (134.34059670035657, 147.59668885390988)\n"
     ]
    }
   ],
   "source": [
    "interval = stats.norm.interval(0.95, loc= xbar, scale= sigma/np.sqrt(n))\n",
    "print('At 95% Confidence, Confidence Interval for data:', interval)"
   ]
  },
  {
   "cell_type": "code",
   "execution_count": 32,
   "id": "b01e0899",
   "metadata": {},
   "outputs": [
    {
     "name": "stdout",
     "output_type": "stream",
     "text": [
      "At 99% Confidence, Confidence Interval for data: (132.25791367981253, 149.67937187445392)\n"
     ]
    }
   ],
   "source": [
    "interval = stats.norm.interval(0.99, loc= xbar, scale= sigma/np.sqrt(n))\n",
    "print('At 99% Confidence, Confidence Interval for data:', interval)"
   ]
  },
  {
   "cell_type": "code",
   "execution_count": 33,
   "id": "4252c6c1",
   "metadata": {},
   "outputs": [],
   "source": [
    "xbar= df2[df2['network']=='Three']['duration'].mean()\n",
    "sigma= df2[df2['network']=='Three']['duration'].std()\n",
    "n= len(df2[df2['network']=='Three']['duration'])"
   ]
  },
  {
   "cell_type": "code",
   "execution_count": 34,
   "id": "bdc0b91d",
   "metadata": {},
   "outputs": [
    {
     "name": "stdout",
     "output_type": "stream",
     "text": [
      "At 95% Confidence, Confidence Interval for Three: (135.47702762959358, 147.43885448951318)\n"
     ]
    }
   ],
   "source": [
    "interval = stats.norm.interval(0.95, loc= xbar, scale= sigma/np.sqrt(n))\n",
    "print('At 95% Confidence, Confidence Interval for Three:', interval)"
   ]
  },
  {
   "cell_type": "code",
   "execution_count": 35,
   "id": "8b15f949",
   "metadata": {},
   "outputs": [
    {
     "name": "stdout",
     "output_type": "stream",
     "text": [
      "At 99% Confidence, Confidence Interval for Three: (133.59768842409747, 149.31819369500928)\n"
     ]
    }
   ],
   "source": [
    "interval = stats.norm.interval(0.99, loc= xbar, scale= sigma/np.sqrt(n))\n",
    "print('At 99% Confidence, Confidence Interval for Three:', interval)"
   ]
  },
  {
   "cell_type": "code",
   "execution_count": 36,
   "id": "ef725097",
   "metadata": {},
   "outputs": [],
   "source": [
    "xbar= df2[df2['network']=='Meteor']['duration'].mean()\n",
    "sigma= df2[df2['network']=='Meteor']['duration'].std()\n",
    "n= len(df2[df2['network']=='Meteor']['duration'])"
   ]
  },
  {
   "cell_type": "code",
   "execution_count": 37,
   "id": "1a1c37a3",
   "metadata": {},
   "outputs": [
    {
     "name": "stdout",
     "output_type": "stream",
     "text": [
      "At 95% Confidence, Confidence Interval for Meteor: (129.90475389256164, 149.60926947953044)\n"
     ]
    }
   ],
   "source": [
    "interval = stats.norm.interval(0.95, loc= xbar, scale= sigma/np.sqrt(n))\n",
    "print('At 95% Confidence, Confidence Interval for Meteor:', interval)"
   ]
  },
  {
   "cell_type": "code",
   "execution_count": 38,
   "id": "e0a147cd",
   "metadata": {},
   "outputs": [
    {
     "name": "stdout",
     "output_type": "stream",
     "text": [
      "At 99% Confidence, Confidence Interval for Meteor: (126.80895012432784, 152.70507324776426)\n"
     ]
    }
   ],
   "source": [
    "interval = stats.norm.interval(0.99, loc= xbar, scale= sigma/np.sqrt(n))\n",
    "print('At 99% Confidence, Confidence Interval for Meteor:', interval)"
   ]
  },
  {
   "cell_type": "code",
   "execution_count": 39,
   "id": "421c0c15",
   "metadata": {},
   "outputs": [],
   "source": [
    "xbar= df2[df2['network']=='Tesco']['duration'].mean()\n",
    "sigma= df2[df2['network']=='Tesco']['duration'].std()\n",
    "n= len(df2[df2['network']=='Tesco']['duration'])"
   ]
  },
  {
   "cell_type": "code",
   "execution_count": 40,
   "id": "6755d8e7",
   "metadata": {},
   "outputs": [
    {
     "name": "stdout",
     "output_type": "stream",
     "text": [
      "At 95% Confidence, Confidence Interval for Tesco: (135.1963946873666, 155.37861324620485)\n"
     ]
    }
   ],
   "source": [
    "interval = stats.norm.interval(0.95, loc= xbar, scale= sigma/np.sqrt(n))\n",
    "print('At 95% Confidence, Confidence Interval for Tesco:', interval)"
   ]
  },
  {
   "cell_type": "code",
   "execution_count": 41,
   "id": "61a47695",
   "metadata": {},
   "outputs": [
    {
     "name": "stdout",
     "output_type": "stream",
     "text": [
      "At 99% Confidence, Confidence Interval for Tesco: (132.0255383427889, 158.54946959078254)\n"
     ]
    }
   ],
   "source": [
    "interval = stats.norm.interval(0.99, loc= xbar, scale= sigma/np.sqrt(n))\n",
    "print('At 99% Confidence, Confidence Interval for Tesco:', interval)"
   ]
  },
  {
   "cell_type": "code",
   "execution_count": 42,
   "id": "f21cedf4",
   "metadata": {},
   "outputs": [],
   "source": [
    "# Conclusion: The Confidence Intervals for Individual Networks with confidence level 99% are wider than Confidence Intervals\n",
    "# with confidence level 95%."
   ]
  },
  {
   "cell_type": "markdown",
   "id": "374ebbfd",
   "metadata": {},
   "source": [
    "### Confidence Intervals for all the Networks at 95% and 99% Confidence Level"
   ]
  },
  {
   "cell_type": "code",
   "execution_count": 43,
   "id": "ba31c16b",
   "metadata": {},
   "outputs": [],
   "source": [
    "xbar= df2['duration'].mean()\n",
    "sigma= df2['duration'].std()\n",
    "n= len(df2['duration'])"
   ]
  },
  {
   "cell_type": "code",
   "execution_count": 44,
   "id": "dacd3dea",
   "metadata": {},
   "outputs": [
    {
     "name": "stdout",
     "output_type": "stream",
     "text": [
      "At 95% Confidence, Confidence Interval: (141.1778397288302, 147.4320313908407)\n"
     ]
    }
   ],
   "source": [
    "interval= stats.norm.interval(0.95, loc= xbar, scale= sigma/np.sqrt(n))\n",
    "print(\"At 95% Confidence, Confidence Interval:\", interval)"
   ]
  },
  {
   "cell_type": "code",
   "execution_count": 45,
   "id": "0846fa3a",
   "metadata": {},
   "outputs": [
    {
     "name": "stdout",
     "output_type": "stream",
     "text": [
      "At 99% Confidence, Confidence Interval: (140.19523500408818, 148.41463611558274)\n"
     ]
    }
   ],
   "source": [
    "interval= stats.norm.interval(0.99, loc= xbar, scale= sigma/np.sqrt(n))\n",
    "print(\"At 99% Confidence, Confidence Interval:\", interval)"
   ]
  },
  {
   "cell_type": "code",
   "execution_count": 46,
   "id": "ec4fc1b9",
   "metadata": {},
   "outputs": [],
   "source": [
    "# Conclusion: Confidence Interval for Duration of Calls with Confidence Level 99% are wider than Confidence Intervals with\n",
    "# confidence level 95%."
   ]
  },
  {
   "cell_type": "code",
   "execution_count": 47,
   "id": "24d3b413",
   "metadata": {},
   "outputs": [],
   "source": [
    "# Interpretation: In both cases Confidence Intervals with 99% Confidence Level are wider than Confidence Intervals with 95%\n",
    "# Confidence Level.\n",
    "# It is because, as the Margin of Error decreases, Range of Confidence Interval Increases."
   ]
  },
  {
   "cell_type": "markdown",
   "id": "4256385c",
   "metadata": {},
   "source": [
    "## b) Statistical Analysis to check whether the Networks are equally distributed"
   ]
  },
  {
   "cell_type": "code",
   "execution_count": 48,
   "id": "0ed08b71",
   "metadata": {},
   "outputs": [
    {
     "data": {
      "text/plain": [
       "Vodafone     215\n",
       "Three        215\n",
       "data         150\n",
       "Meteor        87\n",
       "Tesco         84\n",
       "landline      42\n",
       "voicemail     27\n",
       "Name: network, dtype: int64"
      ]
     },
     "execution_count": 48,
     "metadata": {},
     "output_type": "execute_result"
    }
   ],
   "source": [
    "df2['network'].value_counts()"
   ]
  },
  {
   "cell_type": "code",
   "execution_count": 49,
   "id": "5a375354",
   "metadata": {},
   "outputs": [
    {
     "data": {
      "text/plain": [
       "14.285714285714286"
      ]
     },
     "execution_count": 49,
     "metadata": {},
     "output_type": "execute_result"
    }
   ],
   "source": [
    "100/7"
   ]
  },
  {
   "cell_type": "code",
   "execution_count": 50,
   "id": "a6d4abc2",
   "metadata": {},
   "outputs": [],
   "source": [
    "# H0: there is no significant difference in observed and expected value/ obsesrved values and expected values are same\n",
    "# H1: there is a significant difference in observed and expected value/ obsesrved values and expected values are not same"
   ]
  },
  {
   "cell_type": "code",
   "execution_count": 51,
   "id": "0108c915",
   "metadata": {},
   "outputs": [],
   "source": [
    "obs= [215,215,150,87,84,42,27]\n",
    "\n",
    "prop= [0.14285,0.14285,0.14285,0.14285,0.14285,0.14285,0.14285]\n",
    "\n",
    "exp_value= [0.14285*820,0.14285*820,0.14285*820,0.14285*820,0.14285*820,0.14285*820,0.14285*820]\n",
    "exp= np.round(exp_value)"
   ]
  },
  {
   "cell_type": "code",
   "execution_count": 52,
   "id": "c66e1bf9",
   "metadata": {},
   "outputs": [
    {
     "data": {
      "text/plain": [
       "Power_divergenceResult(statistic=307.7863247863248, pvalue=1.7542899243536984e-63)"
      ]
     },
     "execution_count": 52,
     "metadata": {},
     "output_type": "execute_result"
    }
   ],
   "source": [
    "chisquare(obs, exp)"
   ]
  },
  {
   "cell_type": "code",
   "execution_count": 53,
   "id": "2e94930a",
   "metadata": {},
   "outputs": [],
   "source": [
    "# P_Value is less than Alpha (0.05). Therefore, Reject the Null Hypothesis.\n",
    "# Stating that Networks are not equally distributed in the dataset."
   ]
  },
  {
   "cell_type": "markdown",
   "id": "4b0c6c74",
   "metadata": {},
   "source": [
    "## c) Distribution of Duration with respect to each Network"
   ]
  },
  {
   "cell_type": "code",
   "execution_count": 54,
   "id": "ddc681bd",
   "metadata": {},
   "outputs": [
    {
     "data": {
      "image/png": "[encoded data removed]",
      "text/plain": [
       "<Figure size 1008x720 with 1 Axes>"
      ]
     },
     "metadata": {
      "needs_background": "light"
     },
     "output_type": "display_data"
    }
   ],
   "source": [
    "plt.figure(figsize=(14,10))\n",
    "sns.boxplot(df2['duration'], df2['network'])\n",
    "plt.title(\"Duration of Call for Each Network\")\n",
    "plt.show()\n",
    "\n",
    "# Voicemail has the highest average duration\n",
    "# Data network has the most outliers\n",
    "# In every Network 50% data lies between 110 and 200 duration"
   ]
  },
  {
   "cell_type": "markdown",
   "id": "cc788532",
   "metadata": {},
   "source": [
    "## d) Statistical Tests to identify the relation between Item and Duration"
   ]
  },
  {
   "cell_type": "code",
   "execution_count": 55,
   "id": "630640fa",
   "metadata": {},
   "outputs": [
    {
     "name": "stdout",
     "output_type": "stream",
     "text": [
      "P_Value: 0.1456068656611744\n"
     ]
    }
   ],
   "source": [
    "# H0: There is no relation between item and duration\n",
    "# H1: There is a relation between item and duration\n",
    "\n",
    "test_stat, pvalue= stats.f_oneway(df2[df2['item']=='data']['duration'],\n",
    "                                  df2[df2['item']=='sms']['duration'],\n",
    "                                  df2[df2['item']=='call']['duration'])\n",
    "print(\"P_Value:\", pvalue)\n",
    "\n",
    "# P_Value is greater than Alpha (0.05). Therefore, We fail to reject the Null Hypothesis\n",
    "# Stating that there is no relation between Item and Duration"
   ]
  },
  {
   "cell_type": "code",
   "execution_count": 56,
   "id": "5a5da372",
   "metadata": {},
   "outputs": [
    {
     "name": "stdout",
     "output_type": "stream",
     "text": [
      " Multiple Comparison of Means - Tukey HSD, FWER=0.05 \n",
      "=====================================================\n",
      "group1 group2 meandiff p-adj   lower    upper  reject\n",
      "-----------------------------------------------------\n",
      "  call   data  -6.6347 0.2862 -16.9372  3.6678  False\n",
      "  call    sms  -6.0621  0.207 -14.4472   2.323  False\n",
      "  data    sms   0.5726    0.9 -10.2563 11.4015  False\n",
      "-----------------------------------------------------\n"
     ]
    }
   ],
   "source": [
    "tukey = pairwise_tukeyhsd(endog=df2['duration'],\n",
    "                         groups=df2['item'],\n",
    "                         alpha=0.05)\n",
    "print(tukey)"
   ]
  },
  {
   "cell_type": "markdown",
   "id": "6316115e",
   "metadata": {},
   "source": [
    "## e) Statistical Tests to identify the relation between Network and Network_Type"
   ]
  },
  {
   "cell_type": "code",
   "execution_count": 57,
   "id": "093bb2b5",
   "metadata": {},
   "outputs": [],
   "source": [
    "# H0: No relation between network and network type\n",
    "# H1: Relation between network and network type"
   ]
  },
  {
   "cell_type": "code",
   "execution_count": 58,
   "id": "c4efda62",
   "metadata": {},
   "outputs": [
    {
     "data": {
      "text/plain": [
       "array([[  0,   0,  87,   0],\n",
       "       [  0,   0,  84,   0],\n",
       "       [  0,   0, 215,   0],\n",
       "       [  0,   0, 215,   0],\n",
       "       [150,   0,   0,   0],\n",
       "       [  0,  42,   0,   0],\n",
       "       [  0,   0,   0,  27]], dtype=int64)"
      ]
     },
     "execution_count": 58,
     "metadata": {},
     "output_type": "execute_result"
    }
   ],
   "source": [
    "table= pd.crosstab(df2['network'], df2['network_type'])\n",
    "\n",
    "obs_values= table.values\n",
    "obs_values"
   ]
  },
  {
   "cell_type": "code",
   "execution_count": 59,
   "id": "6098c79a",
   "metadata": {},
   "outputs": [
    {
     "name": "stdout",
     "output_type": "stream",
     "text": [
      "P_Value: 0.0\n"
     ]
    }
   ],
   "source": [
    "tstats, pvalue, df, exp = stats.chi2_contingency(table) # for two categories sample data\n",
    "\n",
    "print(\"P_Value:\", pvalue)\n",
    "\n",
    "# P_Value is less than Alpha (0.05). Therefore, reject the Null Hypothesis\n",
    "# Stating that there is no relation between Network and Network_Type"
   ]
  },
  {
   "cell_type": "code",
   "execution_count": null,
   "id": "ec807583",
   "metadata": {},
   "outputs": [],
   "source": []
  }
 ],
 "metadata": {
  "kernelspec": {
   "display_name": "Python 3",
   "language": "python",
   "name": "python3"
  },
  "language_info": {
   "codemirror_mode": {
    "name": "ipython",
    "version": 3
   },
   "file_extension": ".py",
   "mimetype": "text/x-python",
   "name": "python",
   "nbconvert_exporter": "python",
   "pygments_lexer": "ipython3",
   "version": "3.8.8"
  }
 },
 "nbformat": 4,
 "nbformat_minor": 5
}
